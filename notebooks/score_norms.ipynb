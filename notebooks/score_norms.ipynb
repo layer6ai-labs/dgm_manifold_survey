{
 "cells": [
  {
   "cell_type": "code",
   "execution_count": null,
   "id": "9b1e0af9",
   "metadata": {},
   "outputs": [],
   "source": [
    "%matplotlib inline\n",
    "\n",
    "import matplotlib as mpl\n",
    "import matplotlib.pyplot as plt\n",
    "import numpy as np\n",
    "\n",
    "# NOTE: Janky path addition required because we are now running from the `notebooks` directory\n",
    "#       rather than the main `two_step_zoo` directory\n",
    "import os\n",
    "import sys\n",
    "\n",
    "mpl.rcParams['font.family'] = 'STIXGeneral'\n",
    "mpl.rcParams['axes.linewidth'] = 1.0\n",
    "plt.rcParams[\"mathtext.fontset\"] = \"cm\"\n",
    "plt.rcParams['text.usetex'] = False\n",
    "dark_red ='#DC3220'\n",
    "light_blue = '#20cadc'\n",
    "dark_blue='#21b0bf'\n",
    "blue = '#005AB5'\n",
    "\n",
    "cwd = os.getcwd()\n",
    "sys.path.insert(0, cwd.strip(os.path.basename(cwd))[:-1])\n",
    "from load_run import load_single_module, load_twostep_module\n",
    "from two_step_zoo.evaluators.metrics import fd\n",
    "sys.path.pop(0)"
   ]
  },
  {
   "cell_type": "code",
   "execution_count": null,
   "id": "9a828f82",
   "metadata": {
    "scrolled": true
   },
   "outputs": [],
   "source": [
    "run_dir = \"../runs/MonthDay_Hour-Minute-Second\"  # path to diffusion model on ambient space\n",
    "load_dict = load_single_module(run_dir)\n",
    "\n",
    "run_dir_ts = \"../runs/MonthDay_Hour-Minute-Second\"  # path to diffusion model on latent space\n",
    "load_dict_ts = load_twostep_module(run_dir_ts)"
   ]
  },
  {
   "cell_type": "code",
   "execution_count": null,
   "id": "fd03f1a6",
   "metadata": {},
   "outputs": [],
   "source": [
    "T = 1.\n",
    "steps = 1000\n",
    "eps = 1e-3\n",
    "n_samples = 100\n"
   ]
  },
  {
   "cell_type": "code",
   "execution_count": null,
   "id": "6004b2b7",
   "metadata": {},
   "outputs": [],
   "source": [
    "_, scores = load_dict[\"module\"].sample(n_samples, eps, steps, True)\n",
    "scores = np.array(scores)\n",
    "print(scores.shape)"
   ]
  },
  {
   "cell_type": "code",
   "execution_count": null,
   "id": "7cca41e5",
   "metadata": {},
   "outputs": [],
   "source": [
    "_, scores_ts = load_dict_ts[\"module\"].density_estimator.sample(n_samples, eps, steps, True)\n",
    "scores_ts = np.array(scores_ts)\n",
    "print(scores_ts.shape)"
   ]
  },
  {
   "cell_type": "code",
   "execution_count": null,
   "id": "8dfe84de",
   "metadata": {},
   "outputs": [],
   "source": [
    "linewidth = 6\n",
    "fs1 = 50\n",
    "fs2 = 40\n",
    "lp = 30\n",
    "tick_size = 20\n",
    "\n",
    "T_prime = 0.011\n",
    "\n",
    "x = T - np.linspace(start=0., stop=T-eps, num=steps)\n",
    "x_prime = x[x < T_prime]\n",
    "scores_prime = scores[x < T_prime]\n",
    "scores_ts_prime = scores_ts[x < T_prime]\n",
    "\n",
    "y_mean = np.mean(scores_prime, axis=1)\n",
    "y_stddev = np.std(scores_prime, axis=1)\n",
    "y_mean_ts = np.mean(scores_ts_prime, axis=1)\n",
    "y_stddev_ts = np.std(scores_ts_prime, axis=1)\n",
    "\n",
    "plt.figure(figsize=(20, 15))\n",
    "\n",
    "plt.plot(x_prime, y_mean, c=dark_red, label='Diffusion model', linewidth=linewidth)\n",
    "plt.fill_between(x_prime, y_mean - y_stddev, y_mean + y_stddev, alpha=0.3, color=dark_red)\n",
    "\n",
    "plt.plot(x_prime, y_mean_ts, c=blue, label='Latent diffusion model', linewidth=linewidth)\n",
    "plt.fill_between(x_prime, y_mean_ts - y_stddev_ts, y_mean_ts + y_stddev_ts, alpha=0.3, color=blue)\n",
    "\n",
    "plt.ylabel(r'$\\dfrac{\\Vert s_{\\theta^*}(\\hat{Y}_{t}, T-t) \\Vert_2^2}{\\mathrm{dim}}$', fontsize=fs1, labelpad=lp)\n",
    "plt.xlabel(r'$T-t$', fontsize=fs1, labelpad=lp)\n",
    "\n",
    "plt.tick_params(axis='both', which='major', labelsize=fs2, size=tick_size)\n",
    "\n",
    "plt.legend(fontsize=fs1)\n",
    "plt.tight_layout()\n",
    "\n",
    "# plt.savefig('score_norms.pdf')"
   ]
  },
  {
   "cell_type": "code",
   "execution_count": null,
   "id": "fc3097f7",
   "metadata": {},
   "outputs": [],
   "source": []
  }
 ],
 "metadata": {
  "kernelspec": {
   "display_name": "Python 3 (ipykernel)",
   "language": "python",
   "name": "python3"
  },
  "language_info": {
   "codemirror_mode": {
    "name": "ipython",
    "version": 3
   },
   "file_extension": ".py",
   "mimetype": "text/x-python",
   "name": "python",
   "nbconvert_exporter": "python",
   "pygments_lexer": "ipython3",
   "version": "3.9.13"
  }
 },
 "nbformat": 4,
 "nbformat_minor": 5
}
